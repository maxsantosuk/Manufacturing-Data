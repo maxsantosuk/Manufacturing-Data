{
 "cells": [
  {
   "cell_type": "markdown",
   "metadata": {},
   "source": [
    "# Predicting Manufacturing Failures using Classification\n",
    "_By Max Santos_\n",
    "\n",
    "This notebook looks at data from a manufacturing company who create widgets. During the manufacturing process, almost 600 sensors provide measurements/readings for each widget that is made. Unfortunately, a very large proportion of widgets 'fail' in the manufacturing process and cannot be used. \n",
    "\n",
    "Therefore, the aim of this analysis is to build a predictive model that can use data from the sensors to predict whether a widget will results in **failure or success**. This would have huge benefit to the manufacturing company in reducing the number of failures, and also identifying which sensors are most useful for doing so. "
   ]
  },
  {
   "cell_type": "markdown",
   "metadata": {},
   "source": [
    "## Importing Data & Cleaning\n",
    "\n",
    "First I will import and clean the data. The sensor readings are contained in 'measurements.data' and the failure/success label for each widget is contained in 'labels.data'. "
   ]
  },
  {
   "cell_type": "code",
   "execution_count": 43,
   "metadata": {},
   "outputs": [],
   "source": [
    "import pandas as pd\n",
    "import numpy as np\n",
    "from IPython.display import display\n",
    "import pylab\n",
    "import seaborn as sns\n",
    "import matplotlib.pyplot as plt\n",
    "%matplotlib inline"
   ]
  },
  {
   "cell_type": "code",
   "execution_count": 44,
   "metadata": {},
   "outputs": [],
   "source": [
    "# Read in the data and inspect the layout, columns, variables etc\n",
    "\n",
    "measurements = pd.read_csv('measurements.data', sep=\" \", header=None)\n",
    "labels = pd.read_csv('labels.data', sep=\" \", header=None)"
   ]
  },
  {
   "cell_type": "code",
   "execution_count": 45,
   "metadata": {},
   "outputs": [
    {
     "data": {
      "text/html": [
       "<div>\n",
       "<style scoped>\n",
       "    .dataframe tbody tr th:only-of-type {\n",
       "        vertical-align: middle;\n",
       "    }\n",
       "\n",
       "    .dataframe tbody tr th {\n",
       "        vertical-align: top;\n",
       "    }\n",
       "\n",
       "    .dataframe thead th {\n",
       "        text-align: right;\n",
       "    }\n",
       "</style>\n",
       "<table border=\"1\" class=\"dataframe\">\n",
       "  <thead>\n",
       "    <tr style=\"text-align: right;\">\n",
       "      <th></th>\n",
       "      <th>0</th>\n",
       "      <th>1</th>\n",
       "      <th>2</th>\n",
       "      <th>3</th>\n",
       "      <th>4</th>\n",
       "      <th>5</th>\n",
       "      <th>6</th>\n",
       "      <th>7</th>\n",
       "      <th>8</th>\n",
       "      <th>9</th>\n",
       "      <th>...</th>\n",
       "      <th>580</th>\n",
       "      <th>581</th>\n",
       "      <th>582</th>\n",
       "      <th>583</th>\n",
       "      <th>584</th>\n",
       "      <th>585</th>\n",
       "      <th>586</th>\n",
       "      <th>587</th>\n",
       "      <th>588</th>\n",
       "      <th>589</th>\n",
       "    </tr>\n",
       "  </thead>\n",
       "  <tbody>\n",
       "    <tr>\n",
       "      <th>0</th>\n",
       "      <td>3030.93</td>\n",
       "      <td>2564.00</td>\n",
       "      <td>2187.7333</td>\n",
       "      <td>1411.1265</td>\n",
       "      <td>1.3602</td>\n",
       "      <td>100.0</td>\n",
       "      <td>97.6133</td>\n",
       "      <td>0.1242</td>\n",
       "      <td>1.5005</td>\n",
       "      <td>0.0162</td>\n",
       "      <td>...</td>\n",
       "      <td>NaN</td>\n",
       "      <td>NaN</td>\n",
       "      <td>0.5005</td>\n",
       "      <td>0.0118</td>\n",
       "      <td>0.0035</td>\n",
       "      <td>2.3630</td>\n",
       "      <td>NaN</td>\n",
       "      <td>NaN</td>\n",
       "      <td>NaN</td>\n",
       "      <td>NaN</td>\n",
       "    </tr>\n",
       "    <tr>\n",
       "      <th>1</th>\n",
       "      <td>3095.78</td>\n",
       "      <td>2465.14</td>\n",
       "      <td>2230.4222</td>\n",
       "      <td>1463.6606</td>\n",
       "      <td>0.8294</td>\n",
       "      <td>100.0</td>\n",
       "      <td>102.3433</td>\n",
       "      <td>0.1247</td>\n",
       "      <td>1.4966</td>\n",
       "      <td>-0.0005</td>\n",
       "      <td>...</td>\n",
       "      <td>0.0060</td>\n",
       "      <td>208.2045</td>\n",
       "      <td>0.5019</td>\n",
       "      <td>0.0223</td>\n",
       "      <td>0.0055</td>\n",
       "      <td>4.4447</td>\n",
       "      <td>0.0096</td>\n",
       "      <td>0.0201</td>\n",
       "      <td>0.0060</td>\n",
       "      <td>208.2045</td>\n",
       "    </tr>\n",
       "    <tr>\n",
       "      <th>2</th>\n",
       "      <td>2932.61</td>\n",
       "      <td>2559.94</td>\n",
       "      <td>2186.4111</td>\n",
       "      <td>1698.0172</td>\n",
       "      <td>1.5102</td>\n",
       "      <td>100.0</td>\n",
       "      <td>95.4878</td>\n",
       "      <td>0.1241</td>\n",
       "      <td>1.4436</td>\n",
       "      <td>0.0041</td>\n",
       "      <td>...</td>\n",
       "      <td>0.0148</td>\n",
       "      <td>82.8602</td>\n",
       "      <td>0.4958</td>\n",
       "      <td>0.0157</td>\n",
       "      <td>0.0039</td>\n",
       "      <td>3.1745</td>\n",
       "      <td>0.0584</td>\n",
       "      <td>0.0484</td>\n",
       "      <td>0.0148</td>\n",
       "      <td>82.8602</td>\n",
       "    </tr>\n",
       "    <tr>\n",
       "      <th>3</th>\n",
       "      <td>2988.72</td>\n",
       "      <td>2479.90</td>\n",
       "      <td>2199.0333</td>\n",
       "      <td>909.7926</td>\n",
       "      <td>1.3204</td>\n",
       "      <td>100.0</td>\n",
       "      <td>104.2367</td>\n",
       "      <td>0.1217</td>\n",
       "      <td>1.4882</td>\n",
       "      <td>-0.0124</td>\n",
       "      <td>...</td>\n",
       "      <td>0.0044</td>\n",
       "      <td>73.8432</td>\n",
       "      <td>0.4990</td>\n",
       "      <td>0.0103</td>\n",
       "      <td>0.0025</td>\n",
       "      <td>2.0544</td>\n",
       "      <td>0.0202</td>\n",
       "      <td>0.0149</td>\n",
       "      <td>0.0044</td>\n",
       "      <td>73.8432</td>\n",
       "    </tr>\n",
       "    <tr>\n",
       "      <th>4</th>\n",
       "      <td>3032.24</td>\n",
       "      <td>2502.87</td>\n",
       "      <td>2233.3667</td>\n",
       "      <td>1326.5200</td>\n",
       "      <td>1.5334</td>\n",
       "      <td>100.0</td>\n",
       "      <td>100.3967</td>\n",
       "      <td>0.1235</td>\n",
       "      <td>1.5031</td>\n",
       "      <td>-0.0031</td>\n",
       "      <td>...</td>\n",
       "      <td>NaN</td>\n",
       "      <td>NaN</td>\n",
       "      <td>0.4800</td>\n",
       "      <td>0.4766</td>\n",
       "      <td>0.1045</td>\n",
       "      <td>99.3032</td>\n",
       "      <td>0.0202</td>\n",
       "      <td>0.0149</td>\n",
       "      <td>0.0044</td>\n",
       "      <td>73.8432</td>\n",
       "    </tr>\n",
       "  </tbody>\n",
       "</table>\n",
       "<p>5 rows × 590 columns</p>\n",
       "</div>"
      ],
      "text/plain": [
       "       0        1          2          3       4      5         6       7    \\\n",
       "0  3030.93  2564.00  2187.7333  1411.1265  1.3602  100.0   97.6133  0.1242   \n",
       "1  3095.78  2465.14  2230.4222  1463.6606  0.8294  100.0  102.3433  0.1247   \n",
       "2  2932.61  2559.94  2186.4111  1698.0172  1.5102  100.0   95.4878  0.1241   \n",
       "3  2988.72  2479.90  2199.0333   909.7926  1.3204  100.0  104.2367  0.1217   \n",
       "4  3032.24  2502.87  2233.3667  1326.5200  1.5334  100.0  100.3967  0.1235   \n",
       "\n",
       "      8       9      ...        580       581     582     583     584  \\\n",
       "0  1.5005  0.0162    ...        NaN       NaN  0.5005  0.0118  0.0035   \n",
       "1  1.4966 -0.0005    ...     0.0060  208.2045  0.5019  0.0223  0.0055   \n",
       "2  1.4436  0.0041    ...     0.0148   82.8602  0.4958  0.0157  0.0039   \n",
       "3  1.4882 -0.0124    ...     0.0044   73.8432  0.4990  0.0103  0.0025   \n",
       "4  1.5031 -0.0031    ...        NaN       NaN  0.4800  0.4766  0.1045   \n",
       "\n",
       "       585     586     587     588       589  \n",
       "0   2.3630     NaN     NaN     NaN       NaN  \n",
       "1   4.4447  0.0096  0.0201  0.0060  208.2045  \n",
       "2   3.1745  0.0584  0.0484  0.0148   82.8602  \n",
       "3   2.0544  0.0202  0.0149  0.0044   73.8432  \n",
       "4  99.3032  0.0202  0.0149  0.0044   73.8432  \n",
       "\n",
       "[5 rows x 590 columns]"
      ]
     },
     "execution_count": 45,
     "metadata": {},
     "output_type": "execute_result"
    }
   ],
   "source": [
    "measurements.head()"
   ]
  },
  {
   "cell_type": "code",
   "execution_count": 46,
   "metadata": {},
   "outputs": [
    {
     "data": {
      "text/html": [
       "<div>\n",
       "<style scoped>\n",
       "    .dataframe tbody tr th:only-of-type {\n",
       "        vertical-align: middle;\n",
       "    }\n",
       "\n",
       "    .dataframe tbody tr th {\n",
       "        vertical-align: top;\n",
       "    }\n",
       "\n",
       "    .dataframe thead th {\n",
       "        text-align: right;\n",
       "    }\n",
       "</style>\n",
       "<table border=\"1\" class=\"dataframe\">\n",
       "  <thead>\n",
       "    <tr style=\"text-align: right;\">\n",
       "      <th></th>\n",
       "      <th>0</th>\n",
       "      <th>1</th>\n",
       "    </tr>\n",
       "  </thead>\n",
       "  <tbody>\n",
       "    <tr>\n",
       "      <th>0</th>\n",
       "      <td>-1</td>\n",
       "      <td>19/07/2008 11:55:00</td>\n",
       "    </tr>\n",
       "    <tr>\n",
       "      <th>1</th>\n",
       "      <td>-1</td>\n",
       "      <td>19/07/2008 12:32:00</td>\n",
       "    </tr>\n",
       "    <tr>\n",
       "      <th>2</th>\n",
       "      <td>1</td>\n",
       "      <td>19/07/2008 13:17:00</td>\n",
       "    </tr>\n",
       "    <tr>\n",
       "      <th>3</th>\n",
       "      <td>-1</td>\n",
       "      <td>19/07/2008 14:43:00</td>\n",
       "    </tr>\n",
       "    <tr>\n",
       "      <th>4</th>\n",
       "      <td>-1</td>\n",
       "      <td>19/07/2008 15:22:00</td>\n",
       "    </tr>\n",
       "  </tbody>\n",
       "</table>\n",
       "</div>"
      ],
      "text/plain": [
       "   0                    1\n",
       "0 -1  19/07/2008 11:55:00\n",
       "1 -1  19/07/2008 12:32:00\n",
       "2  1  19/07/2008 13:17:00\n",
       "3 -1  19/07/2008 14:43:00\n",
       "4 -1  19/07/2008 15:22:00"
      ]
     },
     "execution_count": 46,
     "metadata": {},
     "output_type": "execute_result"
    }
   ],
   "source": [
    "labels.head()"
   ]
  },
  {
   "cell_type": "code",
   "execution_count": 47,
   "metadata": {},
   "outputs": [
    {
     "data": {
      "text/html": [
       "<div>\n",
       "<style scoped>\n",
       "    .dataframe tbody tr th:only-of-type {\n",
       "        vertical-align: middle;\n",
       "    }\n",
       "\n",
       "    .dataframe tbody tr th {\n",
       "        vertical-align: top;\n",
       "    }\n",
       "\n",
       "    .dataframe thead th {\n",
       "        text-align: right;\n",
       "    }\n",
       "</style>\n",
       "<table border=\"1\" class=\"dataframe\">\n",
       "  <thead>\n",
       "    <tr style=\"text-align: right;\">\n",
       "      <th></th>\n",
       "      <th>Target</th>\n",
       "      <th>Timestamp</th>\n",
       "    </tr>\n",
       "  </thead>\n",
       "  <tbody>\n",
       "    <tr>\n",
       "      <th>0</th>\n",
       "      <td>0</td>\n",
       "      <td>19/07/2008 11:55:00</td>\n",
       "    </tr>\n",
       "    <tr>\n",
       "      <th>1</th>\n",
       "      <td>0</td>\n",
       "      <td>19/07/2008 12:32:00</td>\n",
       "    </tr>\n",
       "    <tr>\n",
       "      <th>2</th>\n",
       "      <td>1</td>\n",
       "      <td>19/07/2008 13:17:00</td>\n",
       "    </tr>\n",
       "    <tr>\n",
       "      <th>3</th>\n",
       "      <td>0</td>\n",
       "      <td>19/07/2008 14:43:00</td>\n",
       "    </tr>\n",
       "    <tr>\n",
       "      <th>4</th>\n",
       "      <td>0</td>\n",
       "      <td>19/07/2008 15:22:00</td>\n",
       "    </tr>\n",
       "  </tbody>\n",
       "</table>\n",
       "</div>"
      ],
      "text/plain": [
       "   Target            Timestamp\n",
       "0       0  19/07/2008 11:55:00\n",
       "1       0  19/07/2008 12:32:00\n",
       "2       1  19/07/2008 13:17:00\n",
       "3       0  19/07/2008 14:43:00\n",
       "4       0  19/07/2008 15:22:00"
      ]
     },
     "execution_count": 47,
     "metadata": {},
     "output_type": "execute_result"
    }
   ],
   "source": [
    "# rename columns\n",
    "labels.rename(columns={0: 'Target', 1:'Timestamp'}, inplace=True)\n",
    "\n",
    "# convert Target 'failure' to 0s\n",
    "labels.loc[labels['Target'] == -1, 'Target'] = 0\n",
    "\n",
    "labels.head()"
   ]
  },
  {
   "cell_type": "code",
   "execution_count": 48,
   "metadata": {},
   "outputs": [],
   "source": [
    "# merge tables together\n",
    "\n",
    "data = pd.merge(measurements, labels, left_index=True, right_index=True)"
   ]
  },
  {
   "cell_type": "code",
   "execution_count": 49,
   "metadata": {
    "scrolled": true
   },
   "outputs": [
    {
     "data": {
      "text/html": [
       "<div>\n",
       "<style scoped>\n",
       "    .dataframe tbody tr th:only-of-type {\n",
       "        vertical-align: middle;\n",
       "    }\n",
       "\n",
       "    .dataframe tbody tr th {\n",
       "        vertical-align: top;\n",
       "    }\n",
       "\n",
       "    .dataframe thead th {\n",
       "        text-align: right;\n",
       "    }\n",
       "</style>\n",
       "<table border=\"1\" class=\"dataframe\">\n",
       "  <thead>\n",
       "    <tr style=\"text-align: right;\">\n",
       "      <th></th>\n",
       "      <th>0</th>\n",
       "      <th>1</th>\n",
       "      <th>2</th>\n",
       "      <th>3</th>\n",
       "      <th>4</th>\n",
       "      <th>5</th>\n",
       "      <th>6</th>\n",
       "      <th>7</th>\n",
       "      <th>8</th>\n",
       "      <th>9</th>\n",
       "      <th>...</th>\n",
       "      <th>582</th>\n",
       "      <th>583</th>\n",
       "      <th>584</th>\n",
       "      <th>585</th>\n",
       "      <th>586</th>\n",
       "      <th>587</th>\n",
       "      <th>588</th>\n",
       "      <th>589</th>\n",
       "      <th>Target</th>\n",
       "      <th>Timestamp</th>\n",
       "    </tr>\n",
       "  </thead>\n",
       "  <tbody>\n",
       "    <tr>\n",
       "      <th>0</th>\n",
       "      <td>3030.93</td>\n",
       "      <td>2564.00</td>\n",
       "      <td>2187.7333</td>\n",
       "      <td>1411.1265</td>\n",
       "      <td>1.3602</td>\n",
       "      <td>100.0</td>\n",
       "      <td>97.6133</td>\n",
       "      <td>0.1242</td>\n",
       "      <td>1.5005</td>\n",
       "      <td>0.0162</td>\n",
       "      <td>...</td>\n",
       "      <td>0.5005</td>\n",
       "      <td>0.0118</td>\n",
       "      <td>0.0035</td>\n",
       "      <td>2.3630</td>\n",
       "      <td>NaN</td>\n",
       "      <td>NaN</td>\n",
       "      <td>NaN</td>\n",
       "      <td>NaN</td>\n",
       "      <td>0</td>\n",
       "      <td>19/07/2008 11:55:00</td>\n",
       "    </tr>\n",
       "    <tr>\n",
       "      <th>1</th>\n",
       "      <td>3095.78</td>\n",
       "      <td>2465.14</td>\n",
       "      <td>2230.4222</td>\n",
       "      <td>1463.6606</td>\n",
       "      <td>0.8294</td>\n",
       "      <td>100.0</td>\n",
       "      <td>102.3433</td>\n",
       "      <td>0.1247</td>\n",
       "      <td>1.4966</td>\n",
       "      <td>-0.0005</td>\n",
       "      <td>...</td>\n",
       "      <td>0.5019</td>\n",
       "      <td>0.0223</td>\n",
       "      <td>0.0055</td>\n",
       "      <td>4.4447</td>\n",
       "      <td>0.0096</td>\n",
       "      <td>0.0201</td>\n",
       "      <td>0.0060</td>\n",
       "      <td>208.2045</td>\n",
       "      <td>0</td>\n",
       "      <td>19/07/2008 12:32:00</td>\n",
       "    </tr>\n",
       "    <tr>\n",
       "      <th>2</th>\n",
       "      <td>2932.61</td>\n",
       "      <td>2559.94</td>\n",
       "      <td>2186.4111</td>\n",
       "      <td>1698.0172</td>\n",
       "      <td>1.5102</td>\n",
       "      <td>100.0</td>\n",
       "      <td>95.4878</td>\n",
       "      <td>0.1241</td>\n",
       "      <td>1.4436</td>\n",
       "      <td>0.0041</td>\n",
       "      <td>...</td>\n",
       "      <td>0.4958</td>\n",
       "      <td>0.0157</td>\n",
       "      <td>0.0039</td>\n",
       "      <td>3.1745</td>\n",
       "      <td>0.0584</td>\n",
       "      <td>0.0484</td>\n",
       "      <td>0.0148</td>\n",
       "      <td>82.8602</td>\n",
       "      <td>1</td>\n",
       "      <td>19/07/2008 13:17:00</td>\n",
       "    </tr>\n",
       "    <tr>\n",
       "      <th>3</th>\n",
       "      <td>2988.72</td>\n",
       "      <td>2479.90</td>\n",
       "      <td>2199.0333</td>\n",
       "      <td>909.7926</td>\n",
       "      <td>1.3204</td>\n",
       "      <td>100.0</td>\n",
       "      <td>104.2367</td>\n",
       "      <td>0.1217</td>\n",
       "      <td>1.4882</td>\n",
       "      <td>-0.0124</td>\n",
       "      <td>...</td>\n",
       "      <td>0.4990</td>\n",
       "      <td>0.0103</td>\n",
       "      <td>0.0025</td>\n",
       "      <td>2.0544</td>\n",
       "      <td>0.0202</td>\n",
       "      <td>0.0149</td>\n",
       "      <td>0.0044</td>\n",
       "      <td>73.8432</td>\n",
       "      <td>0</td>\n",
       "      <td>19/07/2008 14:43:00</td>\n",
       "    </tr>\n",
       "    <tr>\n",
       "      <th>4</th>\n",
       "      <td>3032.24</td>\n",
       "      <td>2502.87</td>\n",
       "      <td>2233.3667</td>\n",
       "      <td>1326.5200</td>\n",
       "      <td>1.5334</td>\n",
       "      <td>100.0</td>\n",
       "      <td>100.3967</td>\n",
       "      <td>0.1235</td>\n",
       "      <td>1.5031</td>\n",
       "      <td>-0.0031</td>\n",
       "      <td>...</td>\n",
       "      <td>0.4800</td>\n",
       "      <td>0.4766</td>\n",
       "      <td>0.1045</td>\n",
       "      <td>99.3032</td>\n",
       "      <td>0.0202</td>\n",
       "      <td>0.0149</td>\n",
       "      <td>0.0044</td>\n",
       "      <td>73.8432</td>\n",
       "      <td>0</td>\n",
       "      <td>19/07/2008 15:22:00</td>\n",
       "    </tr>\n",
       "  </tbody>\n",
       "</table>\n",
       "<p>5 rows × 592 columns</p>\n",
       "</div>"
      ],
      "text/plain": [
       "         0        1          2          3       4      5         6       7  \\\n",
       "0  3030.93  2564.00  2187.7333  1411.1265  1.3602  100.0   97.6133  0.1242   \n",
       "1  3095.78  2465.14  2230.4222  1463.6606  0.8294  100.0  102.3433  0.1247   \n",
       "2  2932.61  2559.94  2186.4111  1698.0172  1.5102  100.0   95.4878  0.1241   \n",
       "3  2988.72  2479.90  2199.0333   909.7926  1.3204  100.0  104.2367  0.1217   \n",
       "4  3032.24  2502.87  2233.3667  1326.5200  1.5334  100.0  100.3967  0.1235   \n",
       "\n",
       "        8       9         ...              582     583     584      585  \\\n",
       "0  1.5005  0.0162         ...           0.5005  0.0118  0.0035   2.3630   \n",
       "1  1.4966 -0.0005         ...           0.5019  0.0223  0.0055   4.4447   \n",
       "2  1.4436  0.0041         ...           0.4958  0.0157  0.0039   3.1745   \n",
       "3  1.4882 -0.0124         ...           0.4990  0.0103  0.0025   2.0544   \n",
       "4  1.5031 -0.0031         ...           0.4800  0.4766  0.1045  99.3032   \n",
       "\n",
       "      586     587     588       589  Target            Timestamp  \n",
       "0     NaN     NaN     NaN       NaN       0  19/07/2008 11:55:00  \n",
       "1  0.0096  0.0201  0.0060  208.2045       0  19/07/2008 12:32:00  \n",
       "2  0.0584  0.0484  0.0148   82.8602       1  19/07/2008 13:17:00  \n",
       "3  0.0202  0.0149  0.0044   73.8432       0  19/07/2008 14:43:00  \n",
       "4  0.0202  0.0149  0.0044   73.8432       0  19/07/2008 15:22:00  \n",
       "\n",
       "[5 rows x 592 columns]"
      ]
     },
     "execution_count": 49,
     "metadata": {},
     "output_type": "execute_result"
    }
   ],
   "source": [
    "data.head()"
   ]
  },
  {
   "cell_type": "code",
   "execution_count": 50,
   "metadata": {},
   "outputs": [
    {
     "name": "stdout",
     "output_type": "stream",
     "text": [
      "<class 'pandas.core.frame.DataFrame'>\n",
      "RangeIndex: 1567 entries, 0 to 1566\n",
      "Columns: 592 entries, 0 to Timestamp\n",
      "dtypes: float64(590), int64(1), object(1)\n",
      "memory usage: 7.1+ MB\n"
     ]
    }
   ],
   "source": [
    "data.info()"
   ]
  },
  {
   "cell_type": "code",
   "execution_count": 51,
   "metadata": {
    "scrolled": true
   },
   "outputs": [
    {
     "data": {
      "text/html": [
       "<div>\n",
       "<style scoped>\n",
       "    .dataframe tbody tr th:only-of-type {\n",
       "        vertical-align: middle;\n",
       "    }\n",
       "\n",
       "    .dataframe tbody tr th {\n",
       "        vertical-align: top;\n",
       "    }\n",
       "\n",
       "    .dataframe thead th {\n",
       "        text-align: right;\n",
       "    }\n",
       "</style>\n",
       "<table border=\"1\" class=\"dataframe\">\n",
       "  <thead>\n",
       "    <tr style=\"text-align: right;\">\n",
       "      <th></th>\n",
       "      <th>Total Missing</th>\n",
       "      <th>Percentage Missing</th>\n",
       "    </tr>\n",
       "  </thead>\n",
       "  <tbody>\n",
       "    <tr>\n",
       "      <th>293</th>\n",
       "      <td>1429</td>\n",
       "      <td>91.193363</td>\n",
       "    </tr>\n",
       "    <tr>\n",
       "      <th>292</th>\n",
       "      <td>1429</td>\n",
       "      <td>91.193363</td>\n",
       "    </tr>\n",
       "    <tr>\n",
       "      <th>157</th>\n",
       "      <td>1429</td>\n",
       "      <td>91.193363</td>\n",
       "    </tr>\n",
       "    <tr>\n",
       "      <th>158</th>\n",
       "      <td>1429</td>\n",
       "      <td>91.193363</td>\n",
       "    </tr>\n",
       "    <tr>\n",
       "      <th>85</th>\n",
       "      <td>1341</td>\n",
       "      <td>85.577537</td>\n",
       "    </tr>\n",
       "    <tr>\n",
       "      <th>220</th>\n",
       "      <td>1341</td>\n",
       "      <td>85.577537</td>\n",
       "    </tr>\n",
       "    <tr>\n",
       "      <th>358</th>\n",
       "      <td>1341</td>\n",
       "      <td>85.577537</td>\n",
       "    </tr>\n",
       "    <tr>\n",
       "      <th>492</th>\n",
       "      <td>1341</td>\n",
       "      <td>85.577537</td>\n",
       "    </tr>\n",
       "    <tr>\n",
       "      <th>382</th>\n",
       "      <td>1018</td>\n",
       "      <td>64.964901</td>\n",
       "    </tr>\n",
       "    <tr>\n",
       "      <th>383</th>\n",
       "      <td>1018</td>\n",
       "      <td>64.964901</td>\n",
       "    </tr>\n",
       "    <tr>\n",
       "      <th>518</th>\n",
       "      <td>1018</td>\n",
       "      <td>64.964901</td>\n",
       "    </tr>\n",
       "    <tr>\n",
       "      <th>517</th>\n",
       "      <td>1018</td>\n",
       "      <td>64.964901</td>\n",
       "    </tr>\n",
       "    <tr>\n",
       "      <th>516</th>\n",
       "      <td>1018</td>\n",
       "      <td>64.964901</td>\n",
       "    </tr>\n",
       "    <tr>\n",
       "      <th>110</th>\n",
       "      <td>1018</td>\n",
       "      <td>64.964901</td>\n",
       "    </tr>\n",
       "    <tr>\n",
       "      <th>109</th>\n",
       "      <td>1018</td>\n",
       "      <td>64.964901</td>\n",
       "    </tr>\n",
       "    <tr>\n",
       "      <th>244</th>\n",
       "      <td>1018</td>\n",
       "      <td>64.964901</td>\n",
       "    </tr>\n",
       "    <tr>\n",
       "      <th>111</th>\n",
       "      <td>1018</td>\n",
       "      <td>64.964901</td>\n",
       "    </tr>\n",
       "    <tr>\n",
       "      <th>245</th>\n",
       "      <td>1018</td>\n",
       "      <td>64.964901</td>\n",
       "    </tr>\n",
       "    <tr>\n",
       "      <th>246</th>\n",
       "      <td>1018</td>\n",
       "      <td>64.964901</td>\n",
       "    </tr>\n",
       "    <tr>\n",
       "      <th>384</th>\n",
       "      <td>1018</td>\n",
       "      <td>64.964901</td>\n",
       "    </tr>\n",
       "  </tbody>\n",
       "</table>\n",
       "</div>"
      ],
      "text/plain": [
       "     Total Missing  Percentage Missing\n",
       "293           1429           91.193363\n",
       "292           1429           91.193363\n",
       "157           1429           91.193363\n",
       "158           1429           91.193363\n",
       "85            1341           85.577537\n",
       "220           1341           85.577537\n",
       "358           1341           85.577537\n",
       "492           1341           85.577537\n",
       "382           1018           64.964901\n",
       "383           1018           64.964901\n",
       "518           1018           64.964901\n",
       "517           1018           64.964901\n",
       "516           1018           64.964901\n",
       "110           1018           64.964901\n",
       "109           1018           64.964901\n",
       "244           1018           64.964901\n",
       "111           1018           64.964901\n",
       "245           1018           64.964901\n",
       "246           1018           64.964901\n",
       "384           1018           64.964901"
      ]
     },
     "execution_count": 51,
     "metadata": {},
     "output_type": "execute_result"
    }
   ],
   "source": [
    "# Inspect how much missing data there is\n",
    "\n",
    "total = data.isnull().sum().sort_values(ascending=False)\n",
    "percent = (100*data.isnull().sum()/data.shape[0]).sort_values(ascending=False)\n",
    "missing_data = pd.concat([total, percent], axis=1, keys=['Total Missing', 'Percentage Missing'])\n",
    "missing_data.head(20)"
   ]
  },
  {
   "cell_type": "code",
   "execution_count": 52,
   "metadata": {},
   "outputs": [
    {
     "name": "stdout",
     "output_type": "stream",
     "text": [
      "<class 'pandas.core.frame.DataFrame'>\n",
      "RangeIndex: 1567 entries, 0 to 1566\n",
      "Columns: 592 entries, 0 to Timestamp\n",
      "dtypes: float64(590), int64(1), object(1)\n",
      "memory usage: 7.1+ MB\n"
     ]
    }
   ],
   "source": [
    "# remove any rows or columns that are missing all values\n",
    "\n",
    "data.dropna(how ='all') \n",
    "data.dropna(axis=1, how='all')\n",
    "\n",
    "data.info()"
   ]
  },
  {
   "cell_type": "markdown",
   "metadata": {},
   "source": [
    "### Missing Data\n",
    "\n",
    "As there is little info on the features and their significance, we will assume that the data is missing completely at random (MCAR). It would also be worth considering running statistical tests to determine whether this is true (if it is MCAR or MAR). To preserve simplicity, we will remove features with 45% or more missing values."
   ]
  },
  {
   "cell_type": "code",
   "execution_count": 53,
   "metadata": {
    "scrolled": true
   },
   "outputs": [
    {
     "data": {
      "text/html": [
       "<div>\n",
       "<style scoped>\n",
       "    .dataframe tbody tr th:only-of-type {\n",
       "        vertical-align: middle;\n",
       "    }\n",
       "\n",
       "    .dataframe tbody tr th {\n",
       "        vertical-align: top;\n",
       "    }\n",
       "\n",
       "    .dataframe thead th {\n",
       "        text-align: right;\n",
       "    }\n",
       "</style>\n",
       "<table border=\"1\" class=\"dataframe\">\n",
       "  <thead>\n",
       "    <tr style=\"text-align: right;\">\n",
       "      <th></th>\n",
       "      <th>Total Missing</th>\n",
       "      <th>Percentage Missing</th>\n",
       "    </tr>\n",
       "  </thead>\n",
       "  <tbody>\n",
       "    <tr>\n",
       "      <th>293</th>\n",
       "      <td>1429</td>\n",
       "      <td>91.193363</td>\n",
       "    </tr>\n",
       "    <tr>\n",
       "      <th>292</th>\n",
       "      <td>1429</td>\n",
       "      <td>91.193363</td>\n",
       "    </tr>\n",
       "    <tr>\n",
       "      <th>157</th>\n",
       "      <td>1429</td>\n",
       "      <td>91.193363</td>\n",
       "    </tr>\n",
       "    <tr>\n",
       "      <th>158</th>\n",
       "      <td>1429</td>\n",
       "      <td>91.193363</td>\n",
       "    </tr>\n",
       "    <tr>\n",
       "      <th>85</th>\n",
       "      <td>1341</td>\n",
       "      <td>85.577537</td>\n",
       "    </tr>\n",
       "    <tr>\n",
       "      <th>220</th>\n",
       "      <td>1341</td>\n",
       "      <td>85.577537</td>\n",
       "    </tr>\n",
       "    <tr>\n",
       "      <th>358</th>\n",
       "      <td>1341</td>\n",
       "      <td>85.577537</td>\n",
       "    </tr>\n",
       "    <tr>\n",
       "      <th>492</th>\n",
       "      <td>1341</td>\n",
       "      <td>85.577537</td>\n",
       "    </tr>\n",
       "    <tr>\n",
       "      <th>382</th>\n",
       "      <td>1018</td>\n",
       "      <td>64.964901</td>\n",
       "    </tr>\n",
       "    <tr>\n",
       "      <th>383</th>\n",
       "      <td>1018</td>\n",
       "      <td>64.964901</td>\n",
       "    </tr>\n",
       "    <tr>\n",
       "      <th>518</th>\n",
       "      <td>1018</td>\n",
       "      <td>64.964901</td>\n",
       "    </tr>\n",
       "    <tr>\n",
       "      <th>517</th>\n",
       "      <td>1018</td>\n",
       "      <td>64.964901</td>\n",
       "    </tr>\n",
       "    <tr>\n",
       "      <th>516</th>\n",
       "      <td>1018</td>\n",
       "      <td>64.964901</td>\n",
       "    </tr>\n",
       "    <tr>\n",
       "      <th>110</th>\n",
       "      <td>1018</td>\n",
       "      <td>64.964901</td>\n",
       "    </tr>\n",
       "    <tr>\n",
       "      <th>109</th>\n",
       "      <td>1018</td>\n",
       "      <td>64.964901</td>\n",
       "    </tr>\n",
       "    <tr>\n",
       "      <th>244</th>\n",
       "      <td>1018</td>\n",
       "      <td>64.964901</td>\n",
       "    </tr>\n",
       "    <tr>\n",
       "      <th>111</th>\n",
       "      <td>1018</td>\n",
       "      <td>64.964901</td>\n",
       "    </tr>\n",
       "    <tr>\n",
       "      <th>245</th>\n",
       "      <td>1018</td>\n",
       "      <td>64.964901</td>\n",
       "    </tr>\n",
       "    <tr>\n",
       "      <th>246</th>\n",
       "      <td>1018</td>\n",
       "      <td>64.964901</td>\n",
       "    </tr>\n",
       "    <tr>\n",
       "      <th>384</th>\n",
       "      <td>1018</td>\n",
       "      <td>64.964901</td>\n",
       "    </tr>\n",
       "    <tr>\n",
       "      <th>579</th>\n",
       "      <td>949</td>\n",
       "      <td>60.561583</td>\n",
       "    </tr>\n",
       "    <tr>\n",
       "      <th>580</th>\n",
       "      <td>949</td>\n",
       "      <td>60.561583</td>\n",
       "    </tr>\n",
       "    <tr>\n",
       "      <th>581</th>\n",
       "      <td>949</td>\n",
       "      <td>60.561583</td>\n",
       "    </tr>\n",
       "    <tr>\n",
       "      <th>578</th>\n",
       "      <td>949</td>\n",
       "      <td>60.561583</td>\n",
       "    </tr>\n",
       "    <tr>\n",
       "      <th>72</th>\n",
       "      <td>794</td>\n",
       "      <td>50.670070</td>\n",
       "    </tr>\n",
       "    <tr>\n",
       "      <th>73</th>\n",
       "      <td>794</td>\n",
       "      <td>50.670070</td>\n",
       "    </tr>\n",
       "    <tr>\n",
       "      <th>345</th>\n",
       "      <td>794</td>\n",
       "      <td>50.670070</td>\n",
       "    </tr>\n",
       "    <tr>\n",
       "      <th>346</th>\n",
       "      <td>794</td>\n",
       "      <td>50.670070</td>\n",
       "    </tr>\n",
       "    <tr>\n",
       "      <th>385</th>\n",
       "      <td>715</td>\n",
       "      <td>45.628590</td>\n",
       "    </tr>\n",
       "    <tr>\n",
       "      <th>112</th>\n",
       "      <td>715</td>\n",
       "      <td>45.628590</td>\n",
       "    </tr>\n",
       "    <tr>\n",
       "      <th>247</th>\n",
       "      <td>715</td>\n",
       "      <td>45.628590</td>\n",
       "    </tr>\n",
       "    <tr>\n",
       "      <th>519</th>\n",
       "      <td>715</td>\n",
       "      <td>45.628590</td>\n",
       "    </tr>\n",
       "  </tbody>\n",
       "</table>\n",
       "</div>"
      ],
      "text/plain": [
       "     Total Missing  Percentage Missing\n",
       "293           1429           91.193363\n",
       "292           1429           91.193363\n",
       "157           1429           91.193363\n",
       "158           1429           91.193363\n",
       "85            1341           85.577537\n",
       "220           1341           85.577537\n",
       "358           1341           85.577537\n",
       "492           1341           85.577537\n",
       "382           1018           64.964901\n",
       "383           1018           64.964901\n",
       "518           1018           64.964901\n",
       "517           1018           64.964901\n",
       "516           1018           64.964901\n",
       "110           1018           64.964901\n",
       "109           1018           64.964901\n",
       "244           1018           64.964901\n",
       "111           1018           64.964901\n",
       "245           1018           64.964901\n",
       "246           1018           64.964901\n",
       "384           1018           64.964901\n",
       "579            949           60.561583\n",
       "580            949           60.561583\n",
       "581            949           60.561583\n",
       "578            949           60.561583\n",
       "72             794           50.670070\n",
       "73             794           50.670070\n",
       "345            794           50.670070\n",
       "346            794           50.670070\n",
       "385            715           45.628590\n",
       "112            715           45.628590\n",
       "247            715           45.628590\n",
       "519            715           45.628590"
      ]
     },
     "execution_count": 53,
     "metadata": {},
     "output_type": "execute_result"
    }
   ],
   "source": [
    "# select features that have >45% missing data\n",
    "\n",
    "features_to_remove = missing_data.loc[missing_data['Percentage Missing'] >= 45]\n",
    "\n",
    "features_to_remove"
   ]
  },
  {
   "cell_type": "code",
   "execution_count": 54,
   "metadata": {
    "scrolled": true
   },
   "outputs": [
    {
     "data": {
      "text/plain": [
       "[293,\n",
       " 292,\n",
       " 157,\n",
       " 158,\n",
       " 85,\n",
       " 220,\n",
       " 358,\n",
       " 492,\n",
       " 382,\n",
       " 383,\n",
       " 518,\n",
       " 517,\n",
       " 516,\n",
       " 110,\n",
       " 109,\n",
       " 244,\n",
       " 111,\n",
       " 245,\n",
       " 246,\n",
       " 384,\n",
       " 579,\n",
       " 580,\n",
       " 581,\n",
       " 578,\n",
       " 72,\n",
       " 73,\n",
       " 345,\n",
       " 346,\n",
       " 385,\n",
       " 112,\n",
       " 247,\n",
       " 519]"
      ]
     },
     "execution_count": 54,
     "metadata": {},
     "output_type": "execute_result"
    }
   ],
   "source": [
    "cols_to_remove = list(features_to_remove.index.values)\n",
    "\n",
    "cols_to_remove"
   ]
  },
  {
   "cell_type": "code",
   "execution_count": 55,
   "metadata": {
    "scrolled": true
   },
   "outputs": [
    {
     "name": "stdout",
     "output_type": "stream",
     "text": [
      "<class 'pandas.core.frame.DataFrame'>\n",
      "RangeIndex: 1567 entries, 0 to 1566\n",
      "Columns: 560 entries, 0 to Timestamp\n",
      "dtypes: float64(558), int64(1), object(1)\n",
      "memory usage: 6.7+ MB\n"
     ]
    }
   ],
   "source": [
    "# drop unwanted columns from dataset\n",
    "\n",
    "data_cleaned = data.drop(data.columns[cols_to_remove],axis=1)\n",
    "\n",
    "data_cleaned.info()"
   ]
  },
  {
   "cell_type": "markdown",
   "metadata": {},
   "source": [
    "### Imputation\n",
    "\n",
    "We will now impute any missing values from the remaining columns. We will assume that all of the sensors are taking continuous (not discrete) measurements as float values, and will therefore impute missing values using the median (to avoid bias from skewed features). Multiple imputation (e.g. MICE) could also be used here."
   ]
  },
  {
   "cell_type": "code",
   "execution_count": 56,
   "metadata": {},
   "outputs": [],
   "source": [
    "data_imputed = data_cleaned.fillna(data_cleaned.median())"
   ]
  },
  {
   "cell_type": "markdown",
   "metadata": {},
   "source": [
    "Columns with only 1 unique value will also be removed, as they add no information to the model. This leaves 444 remaining columns (down from 560)."
   ]
  },
  {
   "cell_type": "code",
   "execution_count": 57,
   "metadata": {},
   "outputs": [
    {
     "name": "stdout",
     "output_type": "stream",
     "text": [
      "<class 'pandas.core.frame.DataFrame'>\n",
      "RangeIndex: 1567 entries, 0 to 1566\n",
      "Columns: 444 entries, 0 to Timestamp\n",
      "dtypes: float64(442), int64(1), object(1)\n",
      "memory usage: 5.3+ MB\n"
     ]
    }
   ],
   "source": [
    "#remove columns with only 1 unique value\n",
    "for col in data_imputed.columns:\n",
    "    if len(data_imputed[col].unique()) == 1:\n",
    "        data_imputed.drop(col,inplace=True,axis=1)\n",
    "        \n",
    "data_imputed.info()"
   ]
  },
  {
   "cell_type": "code",
   "execution_count": 58,
   "metadata": {},
   "outputs": [],
   "source": [
    "# convert timestamp column to datetime format for exploratory analysis\n",
    "\n",
    "data_imputed['Timestamp'] =  pd.to_datetime(data_imputed['Timestamp'], format='%d/%m/%Y %H:%M:%S')"
   ]
  },
  {
   "cell_type": "markdown",
   "metadata": {},
   "source": [
    "## Exploratory Data Analysis"
   ]
  },
  {
   "cell_type": "markdown",
   "metadata": {},
   "source": [
    "### Time-series Analysis"
   ]
  },
  {
   "cell_type": "markdown",
   "metadata": {},
   "source": [
    "First I will inspect whether the percentage of 'successes' fluctuates over time, or follows a trend."
   ]
  },
  {
   "cell_type": "code",
   "execution_count": 59,
   "metadata": {},
   "outputs": [
    {
     "data": {
      "text/html": [
       "<div>\n",
       "<style scoped>\n",
       "    .dataframe tbody tr th:only-of-type {\n",
       "        vertical-align: middle;\n",
       "    }\n",
       "\n",
       "    .dataframe tbody tr th {\n",
       "        vertical-align: top;\n",
       "    }\n",
       "\n",
       "    .dataframe thead th {\n",
       "        text-align: right;\n",
       "    }\n",
       "</style>\n",
       "<table border=\"1\" class=\"dataframe\">\n",
       "  <thead>\n",
       "    <tr style=\"text-align: right;\">\n",
       "      <th></th>\n",
       "      <th>Target</th>\n",
       "    </tr>\n",
       "    <tr>\n",
       "      <th>Timestamp</th>\n",
       "      <th></th>\n",
       "    </tr>\n",
       "  </thead>\n",
       "  <tbody>\n",
       "    <tr>\n",
       "      <th>2008-07-19</th>\n",
       "      <td>0</td>\n",
       "    </tr>\n",
       "    <tr>\n",
       "      <th>2008-07-19</th>\n",
       "      <td>0</td>\n",
       "    </tr>\n",
       "    <tr>\n",
       "      <th>2008-07-19</th>\n",
       "      <td>1</td>\n",
       "    </tr>\n",
       "    <tr>\n",
       "      <th>2008-07-19</th>\n",
       "      <td>0</td>\n",
       "    </tr>\n",
       "    <tr>\n",
       "      <th>2008-07-19</th>\n",
       "      <td>0</td>\n",
       "    </tr>\n",
       "  </tbody>\n",
       "</table>\n",
       "</div>"
      ],
      "text/plain": [
       "            Target\n",
       "Timestamp         \n",
       "2008-07-19       0\n",
       "2008-07-19       0\n",
       "2008-07-19       1\n",
       "2008-07-19       0\n",
       "2008-07-19       0"
      ]
     },
     "execution_count": 59,
     "metadata": {},
     "output_type": "execute_result"
    }
   ],
   "source": [
    "trend_analysis = data_imputed[['Target','Timestamp']].copy()\n",
    "trend_analysis['Timestamp'] = trend_analysis['Timestamp'].values.astype('<M8[D]')\n",
    "trend_analysis.set_index(['Timestamp'], inplace=True)\n",
    "trend_analysis.head()"
   ]
  },
  {
   "cell_type": "code",
   "execution_count": 60,
   "metadata": {},
   "outputs": [
    {
     "data": {
      "text/html": [
       "<div>\n",
       "<style scoped>\n",
       "    .dataframe tbody tr th:only-of-type {\n",
       "        vertical-align: middle;\n",
       "    }\n",
       "\n",
       "    .dataframe tbody tr th {\n",
       "        vertical-align: top;\n",
       "    }\n",
       "\n",
       "    .dataframe thead th {\n",
       "        text-align: right;\n",
       "    }\n",
       "</style>\n",
       "<table border=\"1\" class=\"dataframe\">\n",
       "  <thead>\n",
       "    <tr style=\"text-align: right;\">\n",
       "      <th></th>\n",
       "      <th>Total Instances</th>\n",
       "    </tr>\n",
       "    <tr>\n",
       "      <th>Timestamp</th>\n",
       "      <th></th>\n",
       "    </tr>\n",
       "  </thead>\n",
       "  <tbody>\n",
       "    <tr>\n",
       "      <th>2008-07-19</th>\n",
       "      <td>12</td>\n",
       "    </tr>\n",
       "    <tr>\n",
       "      <th>2008-07-20</th>\n",
       "      <td>1</td>\n",
       "    </tr>\n",
       "    <tr>\n",
       "      <th>2008-07-21</th>\n",
       "      <td>2</td>\n",
       "    </tr>\n",
       "    <tr>\n",
       "      <th>2008-07-22</th>\n",
       "      <td>6</td>\n",
       "    </tr>\n",
       "    <tr>\n",
       "      <th>2008-07-23</th>\n",
       "      <td>2</td>\n",
       "    </tr>\n",
       "  </tbody>\n",
       "</table>\n",
       "</div>"
      ],
      "text/plain": [
       "            Total Instances\n",
       "Timestamp                  \n",
       "2008-07-19               12\n",
       "2008-07-20                1\n",
       "2008-07-21                2\n",
       "2008-07-22                6\n",
       "2008-07-23                2"
      ]
     },
     "execution_count": 60,
     "metadata": {},
     "output_type": "execute_result"
    }
   ],
   "source": [
    "t1 = pd.DataFrame(data = trend_analysis.groupby(level=[0]).count())\n",
    "\n",
    "t1.rename(columns={'Target':'Total Instances'}, inplace=True)\n",
    "\n",
    "t1.head()"
   ]
  },
  {
   "cell_type": "code",
   "execution_count": 61,
   "metadata": {},
   "outputs": [
    {
     "data": {
      "text/html": [
       "<div>\n",
       "<style scoped>\n",
       "    .dataframe tbody tr th:only-of-type {\n",
       "        vertical-align: middle;\n",
       "    }\n",
       "\n",
       "    .dataframe tbody tr th {\n",
       "        vertical-align: top;\n",
       "    }\n",
       "\n",
       "    .dataframe thead th {\n",
       "        text-align: right;\n",
       "    }\n",
       "</style>\n",
       "<table border=\"1\" class=\"dataframe\">\n",
       "  <thead>\n",
       "    <tr style=\"text-align: right;\">\n",
       "      <th></th>\n",
       "      <th>Total Successes</th>\n",
       "    </tr>\n",
       "    <tr>\n",
       "      <th>Timestamp</th>\n",
       "      <th></th>\n",
       "    </tr>\n",
       "  </thead>\n",
       "  <tbody>\n",
       "    <tr>\n",
       "      <th>2008-07-19</th>\n",
       "      <td>3</td>\n",
       "    </tr>\n",
       "    <tr>\n",
       "      <th>2008-07-20</th>\n",
       "      <td>0</td>\n",
       "    </tr>\n",
       "    <tr>\n",
       "      <th>2008-07-21</th>\n",
       "      <td>1</td>\n",
       "    </tr>\n",
       "    <tr>\n",
       "      <th>2008-07-22</th>\n",
       "      <td>0</td>\n",
       "    </tr>\n",
       "    <tr>\n",
       "      <th>2008-07-23</th>\n",
       "      <td>0</td>\n",
       "    </tr>\n",
       "  </tbody>\n",
       "</table>\n",
       "</div>"
      ],
      "text/plain": [
       "            Total Successes\n",
       "Timestamp                  \n",
       "2008-07-19                3\n",
       "2008-07-20                0\n",
       "2008-07-21                1\n",
       "2008-07-22                0\n",
       "2008-07-23                0"
      ]
     },
     "execution_count": 61,
     "metadata": {},
     "output_type": "execute_result"
    }
   ],
   "source": [
    "t2 = pd.DataFrame(data = trend_analysis.groupby(level=[0]).sum())\n",
    "\n",
    "t2.rename(columns={'Target':'Total Successes'}, inplace=True)\n",
    "\n",
    "t2.head()"
   ]
  },
  {
   "cell_type": "code",
   "execution_count": 62,
   "metadata": {},
   "outputs": [
    {
     "data": {
      "text/html": [
       "<div>\n",
       "<style scoped>\n",
       "    .dataframe tbody tr th:only-of-type {\n",
       "        vertical-align: middle;\n",
       "    }\n",
       "\n",
       "    .dataframe tbody tr th {\n",
       "        vertical-align: top;\n",
       "    }\n",
       "\n",
       "    .dataframe thead th {\n",
       "        text-align: right;\n",
       "    }\n",
       "</style>\n",
       "<table border=\"1\" class=\"dataframe\">\n",
       "  <thead>\n",
       "    <tr style=\"text-align: right;\">\n",
       "      <th></th>\n",
       "      <th>Total Instances</th>\n",
       "      <th>Total Successes</th>\n",
       "      <th>Percentage Of Success</th>\n",
       "    </tr>\n",
       "    <tr>\n",
       "      <th>Timestamp</th>\n",
       "      <th></th>\n",
       "      <th></th>\n",
       "      <th></th>\n",
       "    </tr>\n",
       "  </thead>\n",
       "  <tbody>\n",
       "    <tr>\n",
       "      <th>2008-07-19</th>\n",
       "      <td>12</td>\n",
       "      <td>3</td>\n",
       "      <td>25.000000</td>\n",
       "    </tr>\n",
       "    <tr>\n",
       "      <th>2008-07-20</th>\n",
       "      <td>1</td>\n",
       "      <td>0</td>\n",
       "      <td>0.000000</td>\n",
       "    </tr>\n",
       "    <tr>\n",
       "      <th>2008-07-21</th>\n",
       "      <td>2</td>\n",
       "      <td>1</td>\n",
       "      <td>50.000000</td>\n",
       "    </tr>\n",
       "    <tr>\n",
       "      <th>2008-07-22</th>\n",
       "      <td>6</td>\n",
       "      <td>0</td>\n",
       "      <td>0.000000</td>\n",
       "    </tr>\n",
       "    <tr>\n",
       "      <th>2008-07-23</th>\n",
       "      <td>2</td>\n",
       "      <td>0</td>\n",
       "      <td>0.000000</td>\n",
       "    </tr>\n",
       "    <tr>\n",
       "      <th>2008-07-25</th>\n",
       "      <td>1</td>\n",
       "      <td>1</td>\n",
       "      <td>100.000000</td>\n",
       "    </tr>\n",
       "    <tr>\n",
       "      <th>2008-07-27</th>\n",
       "      <td>10</td>\n",
       "      <td>0</td>\n",
       "      <td>0.000000</td>\n",
       "    </tr>\n",
       "    <tr>\n",
       "      <th>2008-07-28</th>\n",
       "      <td>8</td>\n",
       "      <td>2</td>\n",
       "      <td>25.000000</td>\n",
       "    </tr>\n",
       "    <tr>\n",
       "      <th>2008-07-29</th>\n",
       "      <td>12</td>\n",
       "      <td>4</td>\n",
       "      <td>33.333333</td>\n",
       "    </tr>\n",
       "    <tr>\n",
       "      <th>2008-07-30</th>\n",
       "      <td>5</td>\n",
       "      <td>2</td>\n",
       "      <td>40.000000</td>\n",
       "    </tr>\n",
       "  </tbody>\n",
       "</table>\n",
       "</div>"
      ],
      "text/plain": [
       "            Total Instances  Total Successes  Percentage Of Success\n",
       "Timestamp                                                          \n",
       "2008-07-19               12                3              25.000000\n",
       "2008-07-20                1                0               0.000000\n",
       "2008-07-21                2                1              50.000000\n",
       "2008-07-22                6                0               0.000000\n",
       "2008-07-23                2                0               0.000000\n",
       "2008-07-25                1                1             100.000000\n",
       "2008-07-27               10                0               0.000000\n",
       "2008-07-28                8                2              25.000000\n",
       "2008-07-29               12                4              33.333333\n",
       "2008-07-30                5                2              40.000000"
      ]
     },
     "execution_count": 62,
     "metadata": {},
     "output_type": "execute_result"
    }
   ],
   "source": [
    "trend_analysis_grouped = pd.merge(left=t1, right=t2, left_index=True, right_index=True)\n",
    "\n",
    "trend_analysis_grouped['Percentage Of Success'] = ((trend_analysis_grouped['Total Successes'])/(trend_analysis_grouped['Total Instances']))*100\n",
    "\n",
    "trend_analysis_grouped.head(10)"
   ]
  },
  {
   "cell_type": "code",
   "execution_count": 63,
   "metadata": {},
   "outputs": [
    {
     "data": {
      "image/png": "[encoded data removed]",
      "text/plain": [
       "<Figure size 1296x720 with 1 Axes>"
      ]
     },
     "metadata": {},
     "output_type": "display_data"
    }
   ],
   "source": [
    "ax = trend_analysis_grouped['Percentage Of Success'].plot(figsize=(18, 10),fontsize=15, linewidth=3,label='Day-by-Day')\n",
    "\n",
    "plt.title('Trend of Successes', fontweight='bold', fontsize=15)\n",
    "\n",
    "major_ticks = np.arange(0, 100, 5)\n",
    "minor_ticks = np.arange(0, 100, 1)\n",
    "ax.set_yticks(major_ticks)\n",
    "ax.set_yticks(minor_ticks, minor=True)\n",
    "\n",
    "success_perc_mean = trend_analysis_grouped['Percentage Of Success'].rolling(window=7).mean()\n",
    "ax = success_perc_mean.plot(linewidth=3, label='Weekly Average (Rolling)')\n",
    "\n",
    "ax.set_ylabel('Percentage of Successes',fontsize=15)\n",
    "ax.set_xlabel('Date',fontsize=15)\n",
    "\n",
    "handles, labels = ax.get_legend_handles_labels()\n",
    "ax.legend(handles, labels,loc=1, prop={'size': 15})\n",
    "\n",
    "plt.show()"
   ]
  },
  {
   "cell_type": "markdown",
   "metadata": {},
   "source": [
    "The plot above shows a very gradual downward trend in the average percentage of successes (with a large spike in July). There are clear peaks at what appear to be regular intervals. Otherwise, there isn't a particularly clear pattern, however, a larger time-range of data would make this much easier to determine."
   ]
  },
  {
   "cell_type": "markdown",
   "metadata": {},
   "source": [
    "### Correlation between numerical values"
   ]
  },
  {
   "cell_type": "markdown",
   "metadata": {},
   "source": [
    "This (very messy!) heatmap shows the pearson correlation coefficients (or bivariate correlation) for the most correlated variables in the dataset (with an absolute correlation greater than 0.99). There are several pairs of variables that have this extremely high correlation (multicollinearity)."
   ]
  },
  {
   "cell_type": "code",
   "execution_count": 64,
   "metadata": {},
   "outputs": [
    {
     "data": {
      "text/plain": [
       "<matplotlib.axes._subplots.AxesSubplot at 0x1a182fc0b8>"
      ]
     },
     "metadata": {},
     "output_type": "display_data"
    },
    {
     "data": {
      "image/png": "[encoded data removed]",
      "text/plain": [
       "<Figure size 864x648 with 2 Axes>"
      ]
     },
     "metadata": {},
     "output_type": "display_data"
    }
   ],
   "source": [
    "correlation = data_imputed.corr()\n",
    "fig, ax = plt.subplots(figsize=(12, 9))\n",
    "display(sns.heatmap(correlation[(correlation >= 0.99) | (correlation <= -0.99)],annot=True))"
   ]
  },
  {
   "cell_type": "markdown",
   "metadata": {},
   "source": [
    "### Checking for class imbalance"
   ]
  },
  {
   "cell_type": "code",
   "execution_count": 65,
   "metadata": {},
   "outputs": [
    {
     "name": "stdout",
     "output_type": "stream",
     "text": [
      "\n",
      " Percentage of Failure/Success\n"
     ]
    },
    {
     "data": {
      "text/plain": [
       "0    93.363114\n",
       "1     6.636886\n",
       "Name: Target, dtype: float64"
      ]
     },
     "metadata": {},
     "output_type": "display_data"
    }
   ],
   "source": [
    "# event rate of success\n",
    "\n",
    "PercSuccess = data_imputed['Target'].value_counts(normalize=True)*100\n",
    "print(\"\\n\",\"Percentage of Failure/Success\")\n",
    "display(PercSuccess)"
   ]
  },
  {
   "cell_type": "code",
   "execution_count": 66,
   "metadata": {},
   "outputs": [
    {
     "data": {
      "text/plain": [
       "<matplotlib.axes._subplots.AxesSubplot at 0x1a1fad4828>"
      ]
     },
     "execution_count": 66,
     "metadata": {},
     "output_type": "execute_result"
    },
    {
     "data": {
      "image/png": "[encoded data removed]",
      "text/plain": [
       "<Figure size 432x288 with 1 Axes>"
      ]
     },
     "metadata": {},
     "output_type": "display_data"
    }
   ],
   "source": [
    "sns.countplot(x='Target', data=data_imputed)"
   ]
  },
  {
   "cell_type": "markdown",
   "metadata": {},
   "source": [
    "This shows that we have some class imbalance, which will affect our modelling, and which metrics we use to measure it's performance. In fact, we have only 6.6% event rate in our target column.\n",
    "\n",
    "This can be solved by certain resampling techniques, such as random undersampling, random oversampling or SMOTE). These techniques can all overcome the issue of imbalance, but can also cause overfitting. \n",
    "\n",
    "Another solution to imbalanced datasets, is the use of ensemble modelling techniques (either bagging or boosting). \n",
    "\n",
    "In this case, I will attempt to use a combination of resampling and ensemble modelling."
   ]
  },
  {
   "cell_type": "markdown",
   "metadata": {},
   "source": [
    "### Re-sampling: Oversampling with SMOTE"
   ]
  },
  {
   "cell_type": "markdown",
   "metadata": {},
   "source": [
    "SMOTE (Synthetic Minority Over-sampling Technique) involves the creation of 'synthetic' data points, in order to increase the number of the minority class, until the point that the two classes are balanced. I will first split the data in to training and test sets, and then perform SMOTE on the training set. "
   ]
  },
  {
   "cell_type": "markdown",
   "metadata": {},
   "source": [
    "#### Setting up training and test data"
   ]
  },
  {
   "cell_type": "code",
   "execution_count": 67,
   "metadata": {},
   "outputs": [],
   "source": [
    "from sklearn.model_selection import train_test_split\n",
    "\n",
    "# Create feature and target arrays\n",
    "X = data_imputed.drop(['Timestamp','Target'], axis=1)\n",
    "y = data['Target']\n",
    "\n",
    "# Split into training and test set\n",
    "X_train, X_test, y_train, y_test = train_test_split(X, y, test_size = 0.3, random_state=11)"
   ]
  },
  {
   "cell_type": "markdown",
   "metadata": {},
   "source": [
    "#### Performing SMOTE on the training data"
   ]
  },
  {
   "cell_type": "code",
   "execution_count": 68,
   "metadata": {},
   "outputs": [],
   "source": [
    "from imblearn.over_sampling import SMOTE\n",
    "\n",
    "sm = SMOTE(random_state=11, ratio = 'auto')\n",
    "X_train_sm, y_train_sm = sm.fit_sample(X_train, y_train)"
   ]
  },
  {
   "cell_type": "code",
   "execution_count": 69,
   "metadata": {
    "scrolled": true
   },
   "outputs": [
    {
     "name": "stdout",
     "output_type": "stream",
     "text": [
      "Percentage of positive samples in training set before re-sampling \n",
      " 6.569343065693431\n",
      "Percentage of positive samples in training set after re-sampling \n",
      " 50.0\n"
     ]
    }
   ],
   "source": [
    "print(\"Percentage of positive samples in training set before re-sampling\",\"\\n\",(y_train.sum())/(y_train.count())*100)\n",
    "\n",
    "print(\"Percentage of positive samples in training set after re-sampling\",\"\\n\",(y_train_sm.sum())/len(y_train_sm)*100)"
   ]
  },
  {
   "cell_type": "markdown",
   "metadata": {},
   "source": [
    "## Predictive Modelling"
   ]
  },
  {
   "cell_type": "markdown",
   "metadata": {},
   "source": [
    "**Feature Selection**\n",
    "\n",
    "We currently have 442 features, which is a large number. I will try reducing this using PCA later on in the analysis.\n",
    "As seen below, our number of data points in the training set has now increased (due to SMOTE creating synthetic observations)."
   ]
  },
  {
   "cell_type": "code",
   "execution_count": 70,
   "metadata": {},
   "outputs": [
    {
     "name": "stdout",
     "output_type": "stream",
     "text": [
      "(1096, 442)\n",
      "(2048, 442)\n"
     ]
    }
   ],
   "source": [
    "print(X_train.shape)\n",
    "print(X_train_sm.shape)"
   ]
  },
  {
   "cell_type": "markdown",
   "metadata": {},
   "source": [
    "**Model Selection**\n",
    "\n",
    "As mentioned before, I will use ensemble methods for my model, as they are particularly good at dealing with imbalanced datasets and avoiding overfitting. Specifically, I will use Random Forest (a bagging technique) and AdaBoost (a boosting technique). I will also fit a standard Decision Tree for comparison.\n",
    "\n",
    "I will use the area under the curve (AUC) of the ROC graph as my metric for performance. Accuracy can be misleading in such cases, and the AUC is much more meaningful as it relates to the Precision and Recall.\n",
    "\n",
    "For Random Forest and AdaBoost, I will also perform some parameter tuning in an effort to improve performance."
   ]
  },
  {
   "cell_type": "code",
   "execution_count": 71,
   "metadata": {},
   "outputs": [],
   "source": [
    "from sklearn.model_selection import cross_val_score\n",
    "from sklearn.metrics import accuracy_score, confusion_matrix, classification_report\n",
    "from sklearn.metrics import roc_curve, roc_auc_score, f1_score\n",
    "\n",
    "# create dictionaries to store performance metrics for comparison\n",
    "accuracy_comparison = {}\n",
    "f1_comparison = {}\n",
    "auc_comparison = {}\n",
    "\n",
    "def fit_model(algorithm, X_train, y_train, X_test, y_test, title):\n",
    "\n",
    "    # running k=10 folds cross-validation\n",
    "    scores = cross_val_score(algorithm, X_train, y_train, cv=10, scoring='accuracy') \n",
    "    print('{0} CV Scores on Training Data:'.format(title),scores)\n",
    "    print('\\n','Mean of Accuracy on Training Data:',scores.mean())\n",
    "\n",
    "    #fitting model and predicting\n",
    "    model = algorithm\n",
    "\n",
    "    model.fit(X_train, y_train)\n",
    "\n",
    "    predictions = model.predict(X_test)\n",
    "\n",
    "    print('\\n','Accuracy Score on Test Data:',accuracy_score(y_test, predictions))\n",
    "    print('\\n','{0} Classification Report:'.format(title),'\\n',classification_report(y_test, predictions))\n",
    "    \n",
    "    # Compute predicted probabilities: y_pred_prob\n",
    "    y_pred_prob = model.predict_proba(X_test)[:,1]\n",
    "\n",
    "    # Generate ROC curve values: fpr, tpr, thresholds\n",
    "    fpr, tpr, thresholds = roc_curve(y_test, y_pred_prob)\n",
    "\n",
    "    # Plot ROC curve\n",
    "    plt.plot([0, 1], [0, 1], 'k--')\n",
    "    plt.plot(fpr, tpr)\n",
    "    plt.xlabel('False Positive Rate')\n",
    "    plt.ylabel('True Positive Rate')\n",
    "    plt.title('{0} ROC Curve'.format(title))\n",
    "    plt.show()\n",
    "\n",
    "    # Compute and print Area Under Curve: AUC score\n",
    "    print(\"AUC: {}\".format(roc_auc_score(y_test, y_pred_prob)))\n",
    "    \n",
    "    # save performance metrics for later comparison\n",
    "    accuracy_comparison[title] = (accuracy_score(y_test, predictions)*100).round(1)\n",
    "    f1_comparison[title] = (f1_score(y_test, predictions,average='weighted')*100).round(1)\n",
    "    auc_comparison[title] = (roc_auc_score(y_test, y_pred_prob)).round(2)"
   ]
  },
  {
   "cell_type": "markdown",
   "metadata": {},
   "source": [
    "### First Model: Decision Tree"
   ]
  },
  {
   "cell_type": "code",
   "execution_count": 72,
   "metadata": {},
   "outputs": [
    {
     "name": "stdout",
     "output_type": "stream",
     "text": [
      "Decision Tree CV Scores on Training Data: [0.84951456 0.89320388 0.93203883 0.93203883 0.91666667 0.93137255\n",
      " 0.91666667 0.92156863 0.92156863 0.92647059]\n",
      "\n",
      " Mean of Accuracy on Training Data: 0.914110984199505\n",
      "\n",
      " Accuracy Score on Test Data: 0.8535031847133758\n",
      "\n",
      " Decision Tree Classification Report: \n",
      "              precision    recall  f1-score   support\n",
      "\n",
      "          0       0.94      0.90      0.92       439\n",
      "          1       0.11      0.16      0.13        32\n",
      "\n",
      "avg / total       0.88      0.85      0.87       471\n",
      "\n"
     ]
    },
    {
     "data": {
      "image/png": "[encoded data removed]",
      "text/plain": [
       "<Figure size 432x288 with 1 Axes>"
      ]
     },
     "metadata": {},
     "output_type": "display_data"
    },
    {
     "name": "stdout",
     "output_type": "stream",
     "text": [
      "AUC: 0.5302890091116172\n"
     ]
    }
   ],
   "source": [
    "from sklearn.tree import DecisionTreeClassifier\n",
    "\n",
    "fit_model(DecisionTreeClassifier(random_state=12), X_train_sm, y_train_sm, X_test, y_test, 'Decision Tree')"
   ]
  },
  {
   "cell_type": "markdown",
   "metadata": {},
   "source": [
    "### Second Model: Random Forest"
   ]
  },
  {
   "cell_type": "code",
   "execution_count": 73,
   "metadata": {},
   "outputs": [
    {
     "name": "stdout",
     "output_type": "stream",
     "text": [
      "Random Forest CV Scores on Training Data: [0.94174757 0.99029126 0.97087379 0.98058252 0.99019608 0.96568627\n",
      " 0.98039216 0.99019608 0.9754902  0.99019608]\n",
      "\n",
      " Mean of Accuracy on Training Data: 0.9775652008376167\n",
      "\n",
      " Accuracy Score on Test Data: 0.9278131634819533\n",
      "\n",
      " Random Forest Classification Report: \n",
      "              precision    recall  f1-score   support\n",
      "\n",
      "          0       0.94      0.99      0.96       439\n",
      "          1       0.33      0.06      0.11        32\n",
      "\n",
      "avg / total       0.89      0.93      0.90       471\n",
      "\n"
     ]
    },
    {
     "data": {
      "image/png": "[encoded data removed]",
      "text/plain": [
       "<Figure size 432x288 with 1 Axes>"
      ]
     },
     "metadata": {},
     "output_type": "display_data"
    },
    {
     "name": "stdout",
     "output_type": "stream",
     "text": [
      "AUC: 0.6367098519362188\n"
     ]
    }
   ],
   "source": [
    "from sklearn.ensemble import RandomForestClassifier\n",
    "\n",
    "fit_model(RandomForestClassifier(random_state=12), X_train_sm, y_train_sm, X_test, y_test, 'Random Forest')"
   ]
  },
  {
   "cell_type": "markdown",
   "metadata": {},
   "source": [
    "#### Parameter Tuning for Random Forest\n",
    "\n",
    "I will now perform some tuning of the random forest parameters to see if there is any increase in performance. "
   ]
  },
  {
   "cell_type": "code",
   "execution_count": 74,
   "metadata": {},
   "outputs": [
    {
     "name": "stdout",
     "output_type": "stream",
     "text": [
      "Tuned Random Forest Parameters: {'criterion': 'gini', 'max_depth': None, 'max_features': 'log2', 'n_estimators': 50} \n",
      "\n",
      "\n",
      " Random Forest Classification Report: \n",
      "              precision    recall  f1-score   support\n",
      "\n",
      "          0       0.93      1.00      0.97       439\n",
      "          1       1.00      0.03      0.06        32\n",
      "\n",
      "avg / total       0.94      0.93      0.90       471\n",
      "\n"
     ]
    },
    {
     "data": {
      "image/png": "[encoded data removed]",
      "text/plain": [
       "<Figure size 432x288 with 1 Axes>"
      ]
     },
     "metadata": {},
     "output_type": "display_data"
    },
    {
     "name": "stdout",
     "output_type": "stream",
     "text": [
      "AUC: 0.6870373006833713\n"
     ]
    }
   ],
   "source": [
    "from sklearn.metrics import make_scorer\n",
    "from sklearn.model_selection import GridSearchCV\n",
    "\n",
    "# parameter tuning\n",
    "#create random forest classifier\n",
    "forest = RandomForestClassifier(random_state=12)\n",
    "\n",
    "# Choose some parameter combinations to try\n",
    "parameters = {'n_estimators': [5, 10, 25, 50], \n",
    "              'max_features': ['log2', 'sqrt'], \n",
    "              'criterion': ['entropy', 'gini'],\n",
    "              'max_depth': [None, 5, 10], \n",
    "             }\n",
    "\n",
    "# Run the grid search with 10-fold cross-validation\n",
    "grid = GridSearchCV(forest, parameters,scoring='roc_auc',cv=10)\n",
    "grid = grid.fit(X_train_sm, y_train_sm)\n",
    "print(\"Tuned Random Forest Parameters: {}\".format(grid.best_params_),'\\n')\n",
    "\n",
    "# Set the classifier to the best combination of parameters\n",
    "forest = grid.best_estimator_\n",
    "\n",
    "# Fit the best algorithm to the data, and print feature importances & prediction score\n",
    "forest.fit(X_train_sm, y_train_sm)\n",
    "\n",
    "forest_predictions = forest.predict(X_test)\n",
    "\n",
    "print('\\n','Random Forest Classification Report:','\\n',classification_report(y_test, forest_predictions))\n",
    "\n",
    "# Compute predicted probabilities: y_pred_prob\n",
    "forest_y_pred_prob = forest.predict_proba(X_test)[:,1]\n",
    "\n",
    "# Generate ROC curve values: fpr, tpr, thresholds\n",
    "fpr, tpr, thresholds = roc_curve(y_test, forest_y_pred_prob)\n",
    "\n",
    "# Plot ROC curve\n",
    "plt.plot([0, 1], [0, 1], 'k--')\n",
    "plt.plot(fpr, tpr)\n",
    "plt.xlabel('False Positive Rate')\n",
    "plt.ylabel('True Positive Rate')\n",
    "plt.title('ROC Curve')\n",
    "plt.show()\n",
    "\n",
    "# Compute and print Area Under Curve: AUC score\n",
    "print(\"AUC: {}\".format(roc_auc_score(y_test, forest_y_pred_prob)))\n",
    "\n",
    "# save performance metrics for later comparison\n",
    "accuracy_comparison['Random Forest (tuned)'] = (accuracy_score(y_test, forest_predictions)*100).round(1)\n",
    "f1_comparison['Random Forest (tuned)'] = (f1_score(y_test, forest_predictions,average='weighted')*100).round(1)\n",
    "auc_comparison['Random Forest (tuned)'] = (roc_auc_score(y_test, forest_y_pred_prob)).round(2)"
   ]
  },
  {
   "cell_type": "markdown",
   "metadata": {},
   "source": [
    "The tuning of parameters has resulted in a reasonable increase in performance, from an AUC of 0.64 to 0.69."
   ]
  },
  {
   "cell_type": "markdown",
   "metadata": {},
   "source": [
    "#### Feature Importance for Random Forest\n",
    "\n",
    "Another advantage of Random Forest is that it can give the importance of each of your features (in this case, of each sensor). The table below shows the sensors providing the most useful information, however, none of them have a very high value of importance. This may be a true representation of the sensors, or it could be down to a lack of feature selection, and having a dataset with too high dimensionality."
   ]
  },
  {
   "cell_type": "code",
   "execution_count": 75,
   "metadata": {},
   "outputs": [
    {
     "data": {
      "text/html": [
       "<div>\n",
       "<style scoped>\n",
       "    .dataframe tbody tr th:only-of-type {\n",
       "        vertical-align: middle;\n",
       "    }\n",
       "\n",
       "    .dataframe tbody tr th {\n",
       "        vertical-align: top;\n",
       "    }\n",
       "\n",
       "    .dataframe thead th {\n",
       "        text-align: right;\n",
       "    }\n",
       "</style>\n",
       "<table border=\"1\" class=\"dataframe\">\n",
       "  <thead>\n",
       "    <tr style=\"text-align: right;\">\n",
       "      <th></th>\n",
       "      <th>Feature</th>\n",
       "      <th>Importance</th>\n",
       "    </tr>\n",
       "  </thead>\n",
       "  <tbody>\n",
       "    <tr>\n",
       "      <th>93</th>\n",
       "      <td>103</td>\n",
       "      <td>0.019282</td>\n",
       "    </tr>\n",
       "    <tr>\n",
       "      <th>54</th>\n",
       "      <td>59</td>\n",
       "      <td>0.018203</td>\n",
       "    </tr>\n",
       "    <tr>\n",
       "      <th>372</th>\n",
       "      <td>486</td>\n",
       "      <td>0.016599</td>\n",
       "    </tr>\n",
       "    <tr>\n",
       "      <th>419</th>\n",
       "      <td>563</td>\n",
       "      <td>0.016015</td>\n",
       "    </tr>\n",
       "    <tr>\n",
       "      <th>317</th>\n",
       "      <td>419</td>\n",
       "      <td>0.013076</td>\n",
       "    </tr>\n",
       "    <tr>\n",
       "      <th>110</th>\n",
       "      <td>124</td>\n",
       "      <td>0.010396</td>\n",
       "    </tr>\n",
       "    <tr>\n",
       "      <th>38</th>\n",
       "      <td>40</td>\n",
       "      <td>0.009468</td>\n",
       "    </tr>\n",
       "    <tr>\n",
       "      <th>30</th>\n",
       "      <td>32</td>\n",
       "      <td>0.008259</td>\n",
       "    </tr>\n",
       "    <tr>\n",
       "      <th>10</th>\n",
       "      <td>11</td>\n",
       "      <td>0.007930</td>\n",
       "    </tr>\n",
       "    <tr>\n",
       "      <th>373</th>\n",
       "      <td>487</td>\n",
       "      <td>0.007780</td>\n",
       "    </tr>\n",
       "  </tbody>\n",
       "</table>\n",
       "</div>"
      ],
      "text/plain": [
       "     Feature  Importance\n",
       "93       103    0.019282\n",
       "54        59    0.018203\n",
       "372      486    0.016599\n",
       "419      563    0.016015\n",
       "317      419    0.013076\n",
       "110      124    0.010396\n",
       "38        40    0.009468\n",
       "30        32    0.008259\n",
       "10        11    0.007930\n",
       "373      487    0.007780"
      ]
     },
     "execution_count": 75,
     "metadata": {},
     "output_type": "execute_result"
    }
   ],
   "source": [
    "forest_importances = list(zip(data_imputed.loc[:, data_imputed.columns != 'Target'].columns,forest.feature_importances_))\n",
    "forest_features = pd.DataFrame(forest_importances)\n",
    "forest_features.rename(columns={1: 'Importance'}, inplace=True)\n",
    "forest_features.rename(columns={0: 'Feature'}, inplace=True)\n",
    "forest_features.sort_values(by=['Importance'],inplace=True,ascending=False)\n",
    "forest_features.head(10)"
   ]
  },
  {
   "cell_type": "markdown",
   "metadata": {},
   "source": [
    "### Third Model: AdaBoost"
   ]
  },
  {
   "cell_type": "code",
   "execution_count": 76,
   "metadata": {},
   "outputs": [
    {
     "name": "stdout",
     "output_type": "stream",
     "text": [
      "AdaBoost CV Scores on Training Data: [0.73300971 0.96116505 0.97087379 0.96601942 0.93627451 0.95098039\n",
      " 0.94117647 0.94607843 0.95588235 0.95098039]\n",
      "\n",
      " Mean of Accuracy on Training Data: 0.9312440510184656\n",
      "\n",
      " Accuracy Score on Test Data: 0.8959660297239915\n",
      "\n",
      " AdaBoost Classification Report: \n",
      "              precision    recall  f1-score   support\n",
      "\n",
      "          0       0.94      0.95      0.94       439\n",
      "          1       0.21      0.19      0.20        32\n",
      "\n",
      "avg / total       0.89      0.90      0.89       471\n",
      "\n"
     ]
    },
    {
     "data": {
      "image/png": "[encoded data removed]",
      "text/plain": [
       "<Figure size 432x288 with 1 Axes>"
      ]
     },
     "metadata": {},
     "output_type": "display_data"
    },
    {
     "name": "stdout",
     "output_type": "stream",
     "text": [
      "AUC: 0.6725512528473804\n"
     ]
    }
   ],
   "source": [
    "from sklearn.ensemble import AdaBoostClassifier\n",
    "\n",
    "fit_model(AdaBoostClassifier(random_state=12), X_train_sm, y_train_sm, X_test, y_test, 'AdaBoost')"
   ]
  },
  {
   "cell_type": "markdown",
   "metadata": {},
   "source": [
    "#### Parameter tuning for AdaBoost\n",
    "\n",
    "Similar to random forest, I will now perform parameter tuning on the AdaBoost model in an attempt to optimise it's performance. "
   ]
  },
  {
   "cell_type": "code",
   "execution_count": 77,
   "metadata": {},
   "outputs": [
    {
     "name": "stdout",
     "output_type": "stream",
     "text": [
      "Tuned AdaBoost Parameters: {'learning_rate': 0.5, 'n_estimators': 50} \n",
      "\n",
      "\n",
      " AdaBoost Classification Report: \n",
      "              precision    recall  f1-score   support\n",
      "\n",
      "          0       0.95      0.92      0.94       439\n",
      "          1       0.23      0.31      0.26        32\n",
      "\n",
      "avg / total       0.90      0.88      0.89       471\n",
      "\n"
     ]
    },
    {
     "data": {
      "image/png": "[encoded data removed]",
      "text/plain": [
       "<Figure size 432x288 with 1 Axes>"
      ]
     },
     "metadata": {},
     "output_type": "display_data"
    },
    {
     "name": "stdout",
     "output_type": "stream",
     "text": [
      "AUC: 0.6740461275626424\n"
     ]
    }
   ],
   "source": [
    "# Parameter tuning\n",
    "#create classifier\n",
    "ada = AdaBoostClassifier(random_state=12)\n",
    "\n",
    "# Choose some parameter combinations to try\n",
    "parameters = {'n_estimators': [5, 10, 25, 50], \n",
    "              'learning_rate': [0.01, 0.1, 0.5, 1]\n",
    "             }\n",
    "\n",
    "# Run the grid search with 10-fold cross-validation\n",
    "grid = GridSearchCV(ada, parameters, scoring='roc_auc',cv=10)\n",
    "grid = grid.fit(X_train_sm, y_train_sm)\n",
    "print(\"Tuned AdaBoost Parameters: {}\".format(grid.best_params_),'\\n')\n",
    "\n",
    "# Set the classifier to the best combination of parameters\n",
    "ada = grid.best_estimator_\n",
    "\n",
    "# Fit the best algorithm to the data, and print feature importances & prediction score\n",
    "ada.fit(X_train_sm, y_train_sm)\n",
    "\n",
    "ada_predictions = ada.predict(X_test)\n",
    "\n",
    "print('\\n','AdaBoost Classification Report:','\\n',classification_report(y_test, ada_predictions))\n",
    "\n",
    "# Compute predicted probabilities: y_pred_prob\n",
    "ada_y_pred_prob = ada.predict_proba(X_test)[:,1]\n",
    "\n",
    "# Generate ROC curve values: fpr, tpr, thresholds\n",
    "fpr, tpr, thresholds = roc_curve(y_test, ada_y_pred_prob)\n",
    "\n",
    "# Plot ROC curve\n",
    "plt.plot([0, 1], [0, 1], 'k--')\n",
    "plt.plot(fpr, tpr)\n",
    "plt.xlabel('False Positive Rate')\n",
    "plt.ylabel('True Positive Rate')\n",
    "plt.title('ROC Curve')\n",
    "plt.show()\n",
    "\n",
    "# Compute and print Area Under Curve: AUC score\n",
    "print(\"AUC: {}\".format(roc_auc_score(y_test, ada_y_pred_prob)))\n",
    "\n",
    "# save performance metrics for later comparison\n",
    "accuracy_comparison['AdaBoost (tuned)'] = (accuracy_score(y_test, ada_predictions)*100).round(1)\n",
    "f1_comparison['AdaBoost (tuned)'] = (f1_score(y_test, ada_predictions, average='weighted')*100).round(1)\n",
    "auc_comparison['AdaBoost (tuned)'] = (roc_auc_score(y_test, ada_y_pred_prob)).round(2)"
   ]
  },
  {
   "cell_type": "markdown",
   "metadata": {},
   "source": [
    "In the case of AdaBoost, the parameter tuning has not lead to any increase in performance. This suggests that the default parameters of the classifier are already close to optimum for this case."
   ]
  },
  {
   "cell_type": "markdown",
   "metadata": {},
   "source": [
    "### Comparing Models\n",
    "\n",
    "The table below shows a comparison of model performance, ranked by the area-under-curve (AUC) value for each model's ROC curve. "
   ]
  },
  {
   "cell_type": "code",
   "execution_count": 78,
   "metadata": {},
   "outputs": [
    {
     "data": {
      "text/html": [
       "<div>\n",
       "<style scoped>\n",
       "    .dataframe tbody tr th:only-of-type {\n",
       "        vertical-align: middle;\n",
       "    }\n",
       "\n",
       "    .dataframe tbody tr th {\n",
       "        vertical-align: top;\n",
       "    }\n",
       "\n",
       "    .dataframe thead th {\n",
       "        text-align: right;\n",
       "    }\n",
       "</style>\n",
       "<table border=\"1\" class=\"dataframe\">\n",
       "  <thead>\n",
       "    <tr style=\"text-align: right;\">\n",
       "      <th></th>\n",
       "      <th>Accuracy</th>\n",
       "      <th>F1</th>\n",
       "      <th>AUC</th>\n",
       "    </tr>\n",
       "  </thead>\n",
       "  <tbody>\n",
       "    <tr>\n",
       "      <th>Random Forest (tuned)</th>\n",
       "      <td>93.4</td>\n",
       "      <td>90.4</td>\n",
       "      <td>0.69</td>\n",
       "    </tr>\n",
       "    <tr>\n",
       "      <th>AdaBoost</th>\n",
       "      <td>89.6</td>\n",
       "      <td>89.4</td>\n",
       "      <td>0.67</td>\n",
       "    </tr>\n",
       "    <tr>\n",
       "      <th>AdaBoost (tuned)</th>\n",
       "      <td>88.1</td>\n",
       "      <td>89.0</td>\n",
       "      <td>0.67</td>\n",
       "    </tr>\n",
       "    <tr>\n",
       "      <th>Random Forest</th>\n",
       "      <td>92.8</td>\n",
       "      <td>90.4</td>\n",
       "      <td>0.64</td>\n",
       "    </tr>\n",
       "    <tr>\n",
       "      <th>Decision Tree</th>\n",
       "      <td>85.4</td>\n",
       "      <td>86.6</td>\n",
       "      <td>0.53</td>\n",
       "    </tr>\n",
       "  </tbody>\n",
       "</table>\n",
       "</div>"
      ],
      "text/plain": [
       "                       Accuracy    F1   AUC\n",
       "Random Forest (tuned)      93.4  90.4  0.69\n",
       "AdaBoost                   89.6  89.4  0.67\n",
       "AdaBoost (tuned)           88.1  89.0  0.67\n",
       "Random Forest              92.8  90.4  0.64\n",
       "Decision Tree              85.4  86.6  0.53"
      ]
     },
     "metadata": {},
     "output_type": "display_data"
    }
   ],
   "source": [
    "accuracy_df = pd.DataFrame.from_dict(accuracy_comparison, orient='index')\n",
    "accuracy_df.columns = ['Accuracy']\n",
    "f1_df = pd.DataFrame.from_dict(f1_comparison, orient='index')\n",
    "f1_df.columns = ['F1']\n",
    "auc_df = pd.DataFrame.from_dict(auc_comparison, orient='index')\n",
    "auc_df.columns = ['AUC']\n",
    "\n",
    "comparison_df = pd.merge(accuracy_df, f1_df, left_index=True, right_index=True)\n",
    "comparison_df = pd.merge(comparison_df, auc_df, left_index=True, right_index=True)\n",
    "comparison_df.sort_values(by=['AUC'],inplace=True,ascending=False)\n",
    "display(comparison_df)"
   ]
  },
  {
   "cell_type": "markdown",
   "metadata": {},
   "source": [
    "As expected, both AdaBoost and Random Forest out-perform the Decision Tree model here. The performance is still not optimum however, and has a lot of room for improvement. I will now attempt to improve both models by using PCA (principle component analysis) to select a smaller number of features for use in the models."
   ]
  },
  {
   "cell_type": "markdown",
   "metadata": {},
   "source": [
    "### Reducing Dimensionality using PCA"
   ]
  },
  {
   "cell_type": "markdown",
   "metadata": {},
   "source": [
    "#### Standardise all features (neccessary for PCA)"
   ]
  },
  {
   "cell_type": "code",
   "execution_count": 79,
   "metadata": {},
   "outputs": [],
   "source": [
    "from sklearn.preprocessing import StandardScaler\n",
    "scaler = StandardScaler()\n",
    "\n",
    "# Fit on training set only\n",
    "scaler.fit(X_train)\n",
    "\n",
    "# Apply to both the training set and the test set\n",
    "X_train_pca = scaler.transform(X_train)\n",
    "X_test_pca = scaler.transform(X_test)"
   ]
  },
  {
   "cell_type": "markdown",
   "metadata": {},
   "source": [
    "Perform PCA, retaining 95% of the variance in the dataset (retaining less variance, means less features)."
   ]
  },
  {
   "cell_type": "code",
   "execution_count": 80,
   "metadata": {},
   "outputs": [
    {
     "data": {
      "text/plain": [
       "PCA(copy=True, iterated_power='auto', n_components=0.95, random_state=None,\n",
       "  svd_solver='auto', tol=0.0, whiten=False)"
      ]
     },
     "execution_count": 80,
     "metadata": {},
     "output_type": "execute_result"
    }
   ],
   "source": [
    "from sklearn.decomposition import PCA\n",
    "\n",
    "# Create instance of the model and fit to training data\n",
    "pca = PCA(.95)\n",
    "\n",
    "pca.fit(X_train_pca)"
   ]
  },
  {
   "cell_type": "markdown",
   "metadata": {},
   "source": [
    "In this case, 95% of the variance being retained amounts to 158 principal components being chosen by PCA. This means that we will only have 158 features, once the model is applied."
   ]
  },
  {
   "cell_type": "code",
   "execution_count": 81,
   "metadata": {},
   "outputs": [
    {
     "data": {
      "text/plain": [
       "158"
      ]
     },
     "execution_count": 81,
     "metadata": {},
     "output_type": "execute_result"
    }
   ],
   "source": [
    "pca.n_components_ "
   ]
  },
  {
   "cell_type": "code",
   "execution_count": 82,
   "metadata": {},
   "outputs": [
    {
     "name": "stdout",
     "output_type": "stream",
     "text": [
      "(1096, 442)\n",
      "(471, 442)\n"
     ]
    }
   ],
   "source": [
    "# currently have 442 features\n",
    "\n",
    "print(X_train_pca.shape)\n",
    "print(X_test_pca.shape)"
   ]
  },
  {
   "cell_type": "markdown",
   "metadata": {},
   "source": [
    "Apply the model to both the training and test sets."
   ]
  },
  {
   "cell_type": "code",
   "execution_count": 83,
   "metadata": {},
   "outputs": [],
   "source": [
    "X_train_pca = pca.transform(X_train_pca)\n",
    "X_test_pca = pca.transform(X_test_pca)"
   ]
  },
  {
   "cell_type": "code",
   "execution_count": 84,
   "metadata": {},
   "outputs": [
    {
     "name": "stdout",
     "output_type": "stream",
     "text": [
      "(1096, 158)\n",
      "(471, 158)\n"
     ]
    }
   ],
   "source": [
    "# we now have a reduced 158 features\n",
    "\n",
    "print(X_train_pca.shape)\n",
    "print(X_test_pca.shape)"
   ]
  },
  {
   "cell_type": "markdown",
   "metadata": {},
   "source": [
    "### Modelling after PCA with AdaBoost"
   ]
  },
  {
   "cell_type": "markdown",
   "metadata": {},
   "source": [
    "Here I will re-apply both AdaBoost and Random Forest. I will also experiment with a second resampling technique, random oversampling, in an attempt to improve performance."
   ]
  },
  {
   "cell_type": "markdown",
   "metadata": {},
   "source": [
    "#### Re-sampling Method 1: SMOTE"
   ]
  },
  {
   "cell_type": "code",
   "execution_count": 85,
   "metadata": {},
   "outputs": [],
   "source": [
    "# perform SMOTE resampling on PCA dataset with reduced features\n",
    "\n",
    "sm = SMOTE(random_state=11, ratio = 'auto')\n",
    "X_train_sm, y_train_sm = sm.fit_sample(X_train_pca, y_train)"
   ]
  },
  {
   "cell_type": "code",
   "execution_count": 86,
   "metadata": {
    "scrolled": true
   },
   "outputs": [
    {
     "name": "stdout",
     "output_type": "stream",
     "text": [
      "Percentage of positive samples in training set before re-sampling \n",
      " 6.569343065693431\n",
      "Percentage of positive samples in training set after re-sampling \n",
      " 50.0\n"
     ]
    }
   ],
   "source": [
    "print(\"Percentage of positive samples in training set before re-sampling\",\"\\n\",(y_train.sum())/(y_train.count())*100)\n",
    "\n",
    "print(\"Percentage of positive samples in training set after re-sampling\",\"\\n\",(y_train_sm.sum())/len(y_train_sm)*100)"
   ]
  },
  {
   "cell_type": "markdown",
   "metadata": {},
   "source": [
    "**AdaBoost Model (with SMOTE and PCA)**"
   ]
  },
  {
   "cell_type": "code",
   "execution_count": 87,
   "metadata": {},
   "outputs": [
    {
     "name": "stdout",
     "output_type": "stream",
     "text": [
      "AdaBoost CV Scores on Training Data: [0.81067961 0.88349515 0.90291262 0.89805825 0.96078431 0.92156863\n",
      " 0.91176471 0.89705882 0.91176471 0.93137255]\n",
      "\n",
      " Mean of Accuracy on Training Data: 0.9029459356558158\n",
      "\n",
      " Accuracy Score on Test Data: 0.8259023354564756\n",
      "\n",
      " AdaBoost Classification Report: \n",
      "              precision    recall  f1-score   support\n",
      "\n",
      "          0       0.93      0.88      0.90       439\n",
      "          1       0.05      0.09      0.07        32\n",
      "\n",
      "avg / total       0.87      0.83      0.85       471\n",
      "\n"
     ]
    },
    {
     "data": {
      "image/png": "[encoded data removed]",
      "text/plain": [
       "<Figure size 432x288 with 1 Axes>"
      ]
     },
     "metadata": {},
     "output_type": "display_data"
    },
    {
     "name": "stdout",
     "output_type": "stream",
     "text": [
      "AUC: 0.48953587699316636\n"
     ]
    }
   ],
   "source": [
    "fit_model(AdaBoostClassifier(random_state=12), X_train_sm, y_train_sm, X_test_pca, y_test, 'AdaBoost')"
   ]
  },
  {
   "cell_type": "markdown",
   "metadata": {},
   "source": [
    "It is clear here that the use of PCA has drastically reduced the effectiveness of the AdaBoost algorithm on our dataset."
   ]
  },
  {
   "cell_type": "markdown",
   "metadata": {},
   "source": [
    "**Random Forest Model (with SMOTE and PCA)**"
   ]
  },
  {
   "cell_type": "code",
   "execution_count": 88,
   "metadata": {},
   "outputs": [
    {
     "name": "stdout",
     "output_type": "stream",
     "text": [
      "Random Forest CV Scores on Training Data: [0.94660194 0.98058252 0.94174757 0.96116505 0.99019608 0.98039216\n",
      " 0.96568627 0.96568627 0.96078431 0.9754902 ]\n",
      "\n",
      " Mean of Accuracy on Training Data: 0.9668332381496286\n",
      "\n",
      " Accuracy Score on Test Data: 0.9256900212314225\n",
      "\n",
      " Random Forest Classification Report: \n",
      "              precision    recall  f1-score   support\n",
      "\n",
      "          0       0.93      0.99      0.96       439\n",
      "          1       0.20      0.03      0.05        32\n",
      "\n",
      "avg / total       0.88      0.93      0.90       471\n",
      "\n"
     ]
    },
    {
     "data": {
      "image/png": "[encoded data removed]",
      "text/plain": [
       "<Figure size 432x288 with 1 Axes>"
      ]
     },
     "metadata": {},
     "output_type": "display_data"
    },
    {
     "name": "stdout",
     "output_type": "stream",
     "text": [
      "AUC: 0.5499359339407744\n"
     ]
    }
   ],
   "source": [
    "fit_model(RandomForestClassifier(random_state=12), X_train_sm, y_train_sm, X_test_pca, y_test, 'Random Forest')"
   ]
  },
  {
   "cell_type": "markdown",
   "metadata": {},
   "source": [
    "The performance of Random Forest has also suffered. This suggest that there has been significant loss of information when performing PCA."
   ]
  },
  {
   "cell_type": "markdown",
   "metadata": {},
   "source": [
    "#### Re-sampling Method 2: Random Over-sampling (ROS)"
   ]
  },
  {
   "cell_type": "code",
   "execution_count": 89,
   "metadata": {},
   "outputs": [],
   "source": [
    "from imblearn.over_sampling import RandomOverSampler\n",
    "\n",
    "ros = RandomOverSampler()\n",
    "X_train_ros, y_train_ros = ros.fit_sample(X_train_pca, y_train)"
   ]
  },
  {
   "cell_type": "code",
   "execution_count": 90,
   "metadata": {},
   "outputs": [
    {
     "name": "stdout",
     "output_type": "stream",
     "text": [
      "Percentage of positive samples in training set before re-sampling \n",
      " 6.569343065693431\n",
      "Percentage of positive samples in training set after re-sampling \n",
      " 50.0\n"
     ]
    }
   ],
   "source": [
    "print(\"Percentage of positive samples in training set before re-sampling\",\"\\n\",(y_train.sum())/(y_train.count())*100)\n",
    "\n",
    "print(\"Percentage of positive samples in training set after re-sampling\",\"\\n\",(y_train_ros.sum())/len(y_train_ros)*100)"
   ]
  },
  {
   "cell_type": "markdown",
   "metadata": {},
   "source": [
    "**AdaBoost Model (with ROS and PCA) **"
   ]
  },
  {
   "cell_type": "code",
   "execution_count": 91,
   "metadata": {},
   "outputs": [
    {
     "name": "stdout",
     "output_type": "stream",
     "text": [
      "AdaBoost CV Scores on Training Data: [0.91747573 0.94174757 0.93203883 0.96601942 0.92156863 0.95098039\n",
      " 0.94607843 0.91666667 0.95588235 0.9754902 ]\n",
      "\n",
      " Mean of Accuracy on Training Data: 0.9423948220064723\n",
      "\n",
      " Accuracy Score on Test Data: 0.8067940552016986\n",
      "\n",
      " AdaBoost Classification Report: \n",
      "              precision    recall  f1-score   support\n",
      "\n",
      "          0       0.94      0.85      0.89       439\n",
      "          1       0.11      0.25      0.15        32\n",
      "\n",
      "avg / total       0.88      0.81      0.84       471\n",
      "\n"
     ]
    },
    {
     "data": {
      "image/png": "[encoded data removed]",
      "text/plain": [
       "<Figure size 432x288 with 1 Axes>"
      ]
     },
     "metadata": {},
     "output_type": "display_data"
    },
    {
     "name": "stdout",
     "output_type": "stream",
     "text": [
      "AUC: 0.5713980637813212\n"
     ]
    }
   ],
   "source": [
    "fit_model(AdaBoostClassifier(random_state=12), X_train_ros, y_train_ros, X_test_pca, y_test, 'AdaBoost')"
   ]
  },
  {
   "cell_type": "markdown",
   "metadata": {},
   "source": [
    "**Random Forest Model (with ROS and PCA)**"
   ]
  },
  {
   "cell_type": "code",
   "execution_count": 92,
   "metadata": {},
   "outputs": [
    {
     "name": "stdout",
     "output_type": "stream",
     "text": [
      "Random Forest CV Scores on Training Data: [1.         1.         1.         1.         1.         1.\n",
      " 0.99509804 1.         1.         1.        ]\n",
      "\n",
      " Mean of Accuracy on Training Data: 0.9995098039215687\n",
      "\n",
      " Accuracy Score on Test Data: 0.9320594479830149\n",
      "\n",
      " Random Forest Classification Report: \n",
      "              precision    recall  f1-score   support\n",
      "\n",
      "          0       0.93      1.00      0.96       439\n",
      "          1       0.00      0.00      0.00        32\n",
      "\n",
      "avg / total       0.87      0.93      0.90       471\n",
      "\n"
     ]
    },
    {
     "name": "stderr",
     "output_type": "stream",
     "text": [
      "/Users/Max/anaconda3/lib/python3.6/site-packages/sklearn/metrics/classification.py:1135: UndefinedMetricWarning: Precision and F-score are ill-defined and being set to 0.0 in labels with no predicted samples.\n",
      "  'precision', 'predicted', average, warn_for)\n"
     ]
    },
    {
     "data": {
      "image/png": "[encoded data removed]",
      "text/plain": [
       "<Figure size 432x288 with 1 Axes>"
      ]
     },
     "metadata": {},
     "output_type": "display_data"
    },
    {
     "name": "stdout",
     "output_type": "stream",
     "text": [
      "AUC: 0.46761104783599095\n"
     ]
    },
    {
     "name": "stderr",
     "output_type": "stream",
     "text": [
      "/Users/Max/anaconda3/lib/python3.6/site-packages/sklearn/metrics/classification.py:1135: UndefinedMetricWarning: F-score is ill-defined and being set to 0.0 in labels with no predicted samples.\n",
      "  'precision', 'predicted', average, warn_for)\n"
     ]
    }
   ],
   "source": [
    "fit_model(RandomForestClassifier(random_state=12), X_train_ros, y_train_ros, X_test_pca, y_test, 'Random Forest')"
   ]
  },
  {
   "cell_type": "markdown",
   "metadata": {},
   "source": [
    "It can be seen above that the performance of both models (particularly Random Forest) has suffered as a result of using a combination of ROS and PCA."
   ]
  },
  {
   "cell_type": "markdown",
   "metadata": {},
   "source": [
    "### Conclusion\n",
    "\n",
    "**Best Performing Model**\n",
    "\n",
    "The best performing model was Random Forest with a combination of SMOTE resampling, and without the use of any PCA. \n",
    "\n",
    "In all cases, the use of PCA to reduce dimensionality actually worsened performance, and oversampling proved an unsuitable method for dealing with the class imbalance in this dataset. In order to improve the model, I believe that a more in-depth EDA of the data could have a positive effect, as it would result in better feature selection.  "
   ]
  }
 ],
 "metadata": {
  "kernelspec": {
   "display_name": "Python 3",
   "language": "python",
   "name": "python3"
  },
  "language_info": {
   "codemirror_mode": {
    "name": "ipython",
    "version": 3
   },
   "file_extension": ".py",
   "mimetype": "text/x-python",
   "name": "python",
   "nbconvert_exporter": "python",
   "pygments_lexer": "ipython3",
   "version": "3.6.4"
  }
 },
 "nbformat": 4,
 "nbformat_minor": 2
}
